{
  "nbformat": 4,
  "nbformat_minor": 0,
  "metadata": {
    "colab": {
      "provenance": []
    },
    "kernelspec": {
      "name": "python3",
      "display_name": "Python 3"
    },
    "language_info": {
      "name": "python"
    }
  },
  "cells": [
    {
      "cell_type": "code",
      "execution_count": 1,
      "metadata": {
        "colab": {
          "base_uri": "https://localhost:8080/"
        },
        "id": "4SWZGjOXvfqk",
        "outputId": "1f574270-b5f6-4376-b399-6db8ed2ac5e8"
      },
      "outputs": [
        {
          "output_type": "stream",
          "name": "stdout",
          "text": [
            "The dot product of tensor([1, 2, 3]) and tensor([4, 5, 6]) is: 32\n",
            "The matrix multiplication of\n",
            "tensor([[1, 2],\n",
            "        [3, 4]])\n",
            "and\n",
            "tensor([[5, 6],\n",
            "        [7, 8]])\n",
            "is:\n",
            "tensor([[19, 22],\n",
            "        [43, 50]])\n"
          ]
        }
      ],
      "source": [
        "import torch\n",
        "\n",
        "# Calculate the dot product between two vectors\n",
        "vector_a = torch.tensor([1, 2, 3])\n",
        "vector_b = torch.tensor([4, 5, 6])\n",
        "\n",
        "dot_product_result = torch.dot(vector_a, vector_b)\n",
        "print(f\"The dot product of {vector_a} and {vector_b} is: {dot_product_result.item()}\")\n",
        "\n",
        "# Calculate the matrix multiplication of two 2-dimensional matrices\n",
        "matrix_a = torch.tensor([[1, 2], [3, 4]])\n",
        "matrix_b = torch.tensor([[5, 6], [7, 8]])\n",
        "\n",
        "matrix_mult_result = torch.mm(matrix_a, matrix_b)\n",
        "print(f\"The matrix multiplication of\\n{matrix_a}\\nand\\n{matrix_b}\\nis:\\n{matrix_mult_result}\")\n"
      ]
    },
    {
      "cell_type": "code",
      "source": [
        "import tensorflow as tf\n",
        "\n",
        "# Define the vectors\n",
        "vector_a = tf.constant([1, 2, 3], dtype=tf.float32)\n",
        "vector_b = tf.constant([4, 5, 6], dtype=tf.float32)\n",
        "\n",
        "# Calculate the dot product\n",
        "dot_product_result = tf.tensordot(vector_a, vector_b, axes=1)\n",
        "print(f\"The dot product of {vector_a.numpy()} and {vector_b.numpy()} is: {dot_product_result.numpy()}\")\n",
        "\n",
        "# Define the matrices\n",
        "matrix_a = tf.constant([[1, 2], [3, 4]], dtype=tf.float32)\n",
        "matrix_b = tf.constant([[5, 6], [7, 8]], dtype=tf.float32)\n",
        "\n",
        "# Calculate the matrix multiplication\n",
        "matrix_mult_result = tf.matmul(matrix_a, matrix_b)\n",
        "print(f\"The matrix multiplication of\\n{matrix_a.numpy()}\\nand\\n{matrix_b.numpy()}\\nis:\\n{matrix_mult_result.numpy()}\")\n"
      ],
      "metadata": {
        "colab": {
          "base_uri": "https://localhost:8080/"
        },
        "id": "I2HTRzG9wHl8",
        "outputId": "a80eee77-e5b4-41b1-dce1-1ffd2cef7e52"
      },
      "execution_count": 2,
      "outputs": [
        {
          "output_type": "stream",
          "name": "stdout",
          "text": [
            "The dot product of [1. 2. 3.] and [4. 5. 6.] is: 32.0\n",
            "The matrix multiplication of\n",
            "[[1. 2.]\n",
            " [3. 4.]]\n",
            "and\n",
            "[[5. 6.]\n",
            " [7. 8.]]\n",
            "is:\n",
            "[[19. 22.]\n",
            " [43. 50.]]\n"
          ]
        }
      ]
    }
  ]
}