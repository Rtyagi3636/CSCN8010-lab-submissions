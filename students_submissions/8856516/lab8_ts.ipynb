{
  "nbformat": 4,
  "nbformat_minor": 0,
  "metadata": {
    "colab": {
      "provenance": []
    },
    "kernelspec": {
      "name": "python3",
      "display_name": "Python 3"
    },
    "language_info": {
      "name": "python"
    }
  },
  "cells": [
    {
      "cell_type": "code",
      "execution_count": 1,
      "metadata": {
        "colab": {
          "base_uri": "https://localhost:8080/"
        },
        "id": "f5if6LOt3wiI",
        "outputId": "d196620c-8869-4a5e-d037-233612d4b844"
      },
      "outputs": [
        {
          "output_type": "stream",
          "name": "stdout",
          "text": [
            "The dot product of [1. 2. 3.] and [4. 5. 6.] is: 32.0\n",
            "The matrix multiplication of\n",
            "[[1. 2.]\n",
            " [3. 4.]]\n",
            "and\n",
            "[[5. 6.]\n",
            " [7. 8.]]\n",
            "is:\n",
            "[[19. 22.]\n",
            " [43. 50.]]\n"
          ]
        }
      ],
      "source": [
        "import tensorflow as tf\n",
        "\n",
        "# Define the vectors\n",
        "vector_a = tf.constant([1, 2, 3], dtype=tf.float32)\n",
        "vector_b = tf.constant([4, 5, 6], dtype=tf.float32)\n",
        "\n",
        "# Calculate the dot product\n",
        "dot_product_result = tf.tensordot(vector_a, vector_b, axes=1)\n",
        "print(f\"The dot product of {vector_a.numpy()} and {vector_b.numpy()} is: {dot_product_result.numpy()}\")\n",
        "\n",
        "# Define the matrices\n",
        "matrix_a = tf.constant([[1, 2], [3, 4]], dtype=tf.float32)\n",
        "matrix_b = tf.constant([[5, 6], [7, 8]], dtype=tf.float32)\n",
        "\n",
        "# Calculate the matrix multiplication\n",
        "matrix_mult_result = tf.matmul(matrix_a, matrix_b)\n",
        "print(f\"The matrix multiplication of\\n{matrix_a.numpy()}\\nand\\n{matrix_b.numpy()}\\nis:\\n{matrix_mult_result.numpy()}\")"
      ]
    }
  ]
}